{
 "cells": [
  {
   "cell_type": "markdown",
   "id": "5dccd589",
   "metadata": {},
   "source": [
    "## Import Library"
   ]
  },
  {
   "cell_type": "code",
   "execution_count": 1,
   "id": "7536fcb5",
   "metadata": {},
   "outputs": [
    {
     "name": "stdout",
     "output_type": "stream",
     "text": [
      "WARNING:tensorflow:From C:\\Users\\acer\\anaconda3\\Lib\\site-packages\\keras\\src\\losses.py:2976: The name tf.losses.sparse_softmax_cross_entropy is deprecated. Please use tf.compat.v1.losses.sparse_softmax_cross_entropy instead.\n",
      "\n"
     ]
    }
   ],
   "source": [
    "#data handling\n",
    "import pandas as pd\n",
    "import numpy as np\n",
    "\n",
    "#data visualization\n",
    "import matplotlib.pyplot as plt\n",
    "import seaborn as sns\n",
    "\n",
    "#preprocessing\n",
    "from sklearn.model_selection import train_test_split\n",
    "from sklearn.preprocessing import LabelEncoder\n",
    "from sklearn.preprocessing import MinMaxScaler\n",
    "from sklearn import preprocessing \n",
    "from sklearn.metrics import mean_absolute_error, mean_squared_error, r2_score, accuracy_score, confusion_matrix\n",
    "\n",
    "#classification\n",
    "import tensorflow as tf\n",
    "from tensorflow import keras\n",
    "from keras.models import Sequential\n",
    "from keras.layers import Dense\n"
   ]
  },
  {
   "cell_type": "markdown",
   "id": "0ca5caa1",
   "metadata": {},
   "source": [
    "## Import Dataset"
   ]
  },
  {
   "cell_type": "markdown",
   "id": "3e02badd",
   "metadata": {},
   "source": [
    "### Dataset is preprocessed (cleaning, merging, K-mer)"
   ]
  },
  {
   "cell_type": "code",
   "execution_count": 2,
   "id": "aff13160",
   "metadata": {},
   "outputs": [],
   "source": [
    "data = pd.read_csv('DNAdata_Kmer.csv')"
   ]
  },
  {
   "cell_type": "code",
   "execution_count": 3,
   "id": "7e9348ea",
   "metadata": {},
   "outputs": [],
   "source": [
    "data.drop(data.columns[[0]], axis=1, inplace=True)"
   ]
  },
  {
   "cell_type": "code",
   "execution_count": 4,
   "id": "1c3eda7f",
   "metadata": {},
   "outputs": [
    {
     "data": {
      "text/html": [
       "<div>\n",
       "<style scoped>\n",
       "    .dataframe tbody tr th:only-of-type {\n",
       "        vertical-align: middle;\n",
       "    }\n",
       "\n",
       "    .dataframe tbody tr th {\n",
       "        vertical-align: top;\n",
       "    }\n",
       "\n",
       "    .dataframe thead th {\n",
       "        text-align: right;\n",
       "    }\n",
       "</style>\n",
       "<table border=\"1\" class=\"dataframe\">\n",
       "  <thead>\n",
       "    <tr style=\"text-align: right;\">\n",
       "      <th></th>\n",
       "      <th>len</th>\n",
       "      <th>cancer</th>\n",
       "      <th>seq</th>\n",
       "    </tr>\n",
       "  </thead>\n",
       "  <tbody>\n",
       "    <tr>\n",
       "      <th>0</th>\n",
       "      <td>27</td>\n",
       "      <td>0</td>\n",
       "      <td>['tgctaa', 'gctaac', 'ctaaca', 'taacag', 'aaca...</td>\n",
       "    </tr>\n",
       "    <tr>\n",
       "      <th>1</th>\n",
       "      <td>24</td>\n",
       "      <td>0</td>\n",
       "      <td>['agagtc', 'gagtcg', 'agtcgg', 'gtcggt', 'tcgg...</td>\n",
       "    </tr>\n",
       "    <tr>\n",
       "      <th>2</th>\n",
       "      <td>23</td>\n",
       "      <td>0</td>\n",
       "      <td>['caccgt', 'accgtc', 'ccgtca', 'cgtcag', 'gtca...</td>\n",
       "    </tr>\n",
       "    <tr>\n",
       "      <th>3</th>\n",
       "      <td>32</td>\n",
       "      <td>0</td>\n",
       "      <td>['agagct', 'gagcta', 'agctaa', 'gctaaa', 'ctaa...</td>\n",
       "    </tr>\n",
       "    <tr>\n",
       "      <th>4</th>\n",
       "      <td>20</td>\n",
       "      <td>0</td>\n",
       "      <td>['acgcgg', 'cgcggc', 'gcggcc', 'cggcca', 'ggcc...</td>\n",
       "    </tr>\n",
       "    <tr>\n",
       "      <th>...</th>\n",
       "      <td>...</td>\n",
       "      <td>...</td>\n",
       "      <td>...</td>\n",
       "    </tr>\n",
       "    <tr>\n",
       "      <th>753</th>\n",
       "      <td>616</td>\n",
       "      <td>4</td>\n",
       "      <td>['aagaca', 'agacat', 'gacatc', 'acatca', 'catc...</td>\n",
       "    </tr>\n",
       "    <tr>\n",
       "      <th>754</th>\n",
       "      <td>546</td>\n",
       "      <td>4</td>\n",
       "      <td>['ggagct', 'gagctc', 'agctct', 'gctctc', 'ctct...</td>\n",
       "    </tr>\n",
       "    <tr>\n",
       "      <th>755</th>\n",
       "      <td>557</td>\n",
       "      <td>4</td>\n",
       "      <td>['tcacgg', 'cacggg', 'acggga', 'cgggag', 'ggga...</td>\n",
       "    </tr>\n",
       "    <tr>\n",
       "      <th>756</th>\n",
       "      <td>564</td>\n",
       "      <td>4</td>\n",
       "      <td>['attaac', 'ttaacc', 'taacca', 'aaccac', 'acca...</td>\n",
       "    </tr>\n",
       "    <tr>\n",
       "      <th>757</th>\n",
       "      <td>580</td>\n",
       "      <td>4</td>\n",
       "      <td>['acgatg', 'cgatgg', 'gatgga', 'atggat', 'tgga...</td>\n",
       "    </tr>\n",
       "  </tbody>\n",
       "</table>\n",
       "<p>758 rows × 3 columns</p>\n",
       "</div>"
      ],
      "text/plain": [
       "     len  cancer                                                seq\n",
       "0     27       0  ['tgctaa', 'gctaac', 'ctaaca', 'taacag', 'aaca...\n",
       "1     24       0  ['agagtc', 'gagtcg', 'agtcgg', 'gtcggt', 'tcgg...\n",
       "2     23       0  ['caccgt', 'accgtc', 'ccgtca', 'cgtcag', 'gtca...\n",
       "3     32       0  ['agagct', 'gagcta', 'agctaa', 'gctaaa', 'ctaa...\n",
       "4     20       0  ['acgcgg', 'cgcggc', 'gcggcc', 'cggcca', 'ggcc...\n",
       "..   ...     ...                                                ...\n",
       "753  616       4  ['aagaca', 'agacat', 'gacatc', 'acatca', 'catc...\n",
       "754  546       4  ['ggagct', 'gagctc', 'agctct', 'gctctc', 'ctct...\n",
       "755  557       4  ['tcacgg', 'cacggg', 'acggga', 'cgggag', 'ggga...\n",
       "756  564       4  ['attaac', 'ttaacc', 'taacca', 'aaccac', 'acca...\n",
       "757  580       4  ['acgatg', 'cgatgg', 'gatgga', 'atggat', 'tgga...\n",
       "\n",
       "[758 rows x 3 columns]"
      ]
     },
     "execution_count": 4,
     "metadata": {},
     "output_type": "execute_result"
    }
   ],
   "source": [
    "data"
   ]
  },
  {
   "cell_type": "markdown",
   "id": "06d7c4ea",
   "metadata": {},
   "source": [
    "## Allocate independent and dependent features to x & y respectively"
   ]
  },
  {
   "cell_type": "markdown",
   "id": "230acf52",
   "metadata": {},
   "source": [
    "## \n",
    "0: Bladder Cancer,\n",
    "1: Bone Cancer,\n",
    "2: Brain Cancer,\n",
    "3: Colorectal Cancer,\n",
    "4: Head_and_neck Cancer"
   ]
  },
  {
   "cell_type": "code",
   "execution_count": 5,
   "id": "9ab1a548",
   "metadata": {},
   "outputs": [
    {
     "data": {
      "text/plain": [
       "array([0, 0, 0, 0, 0, 0, 0, 0, 0, 0, 0, 0, 0, 0, 0, 0, 0, 0, 0, 0, 0, 0,\n",
       "       0, 0, 0, 0, 0, 0, 0, 0, 0, 0, 0, 0, 0, 0, 0, 0, 0, 0, 0, 0, 0, 0,\n",
       "       0, 0, 0, 0, 0, 0, 0, 0, 0, 0, 0, 0, 0, 0, 0, 0, 0, 0, 0, 0, 0, 0,\n",
       "       0, 0, 0, 0, 0, 0, 0, 0, 0, 0, 0, 0, 0, 0, 0, 0, 0, 0, 0, 0, 0, 0,\n",
       "       0, 0, 0, 0, 0, 0, 0, 0, 0, 0, 0, 0, 0, 0, 0, 0, 0, 0, 0, 0, 0, 0,\n",
       "       0, 0, 0, 0, 0, 0, 0, 1, 1, 1, 1, 1, 1, 1, 1, 1, 1, 1, 1, 1, 1, 1,\n",
       "       1, 1, 1, 1, 1, 1, 1, 1, 1, 1, 1, 1, 1, 1, 1, 1, 1, 1, 1, 1, 1, 1,\n",
       "       1, 1, 1, 1, 1, 1, 1, 1, 1, 1, 1, 1, 1, 1, 1, 1, 1, 1, 1, 1, 1, 1,\n",
       "       1, 1, 1, 1, 1, 1, 1, 1, 1, 1, 1, 1, 1, 1, 1, 1, 1, 1, 1, 1, 1, 1,\n",
       "       1, 1, 2, 2, 2, 2, 2, 2, 2, 2, 2, 2, 2, 2, 2, 2, 2, 2, 2, 2, 2, 2,\n",
       "       2, 2, 2, 2, 2, 2, 2, 2, 2, 2, 2, 2, 2, 2, 2, 2, 2, 2, 2, 2, 2, 2,\n",
       "       2, 2, 2, 2, 2, 2, 2, 2, 2, 2, 2, 2, 2, 2, 2, 2, 2, 2, 2, 2, 2, 2,\n",
       "       2, 2, 2, 2, 2, 2, 2, 2, 2, 2, 2, 2, 2, 2, 2, 2, 2, 2, 2, 2, 2, 2,\n",
       "       2, 2, 2, 2, 2, 2, 2, 2, 2, 2, 2, 2, 2, 2, 3, 3, 3, 3, 3, 3, 3, 3,\n",
       "       3, 3, 3, 3, 3, 3, 3, 3, 3, 3, 3, 3, 3, 3, 3, 3, 3, 3, 3, 3, 3, 3,\n",
       "       3, 3, 3, 3, 3, 3, 3, 3, 3, 3, 3, 3, 3, 3, 3, 3, 3, 3, 3, 3, 3, 3,\n",
       "       3, 3, 3, 3, 3, 3, 3, 3, 3, 3, 3, 3, 3, 3, 3, 3, 3, 3, 3, 3, 3, 3,\n",
       "       3, 3, 3, 3, 3, 3, 3, 3, 3, 3, 3, 3, 3, 3, 3, 3, 3, 3, 3, 3, 3, 3,\n",
       "       3, 3, 3, 3, 3, 3, 4, 4, 4, 4, 4, 4, 4, 4, 4, 4, 4, 4, 4, 4, 4, 4,\n",
       "       4, 4, 4, 4, 4, 4, 4, 4, 4, 4, 4, 4, 4, 4, 4, 4, 4, 4, 4, 4, 4, 4,\n",
       "       4, 4, 4, 4, 4, 4, 4, 4, 4, 4, 4, 4, 4, 4, 4, 4, 4, 4, 4, 4, 4, 4,\n",
       "       4, 4, 4, 4, 4, 4, 4, 4, 4, 4, 4, 4, 4, 4, 4, 4, 4, 4, 4, 4, 4, 4,\n",
       "       4, 4, 4, 4, 4, 4, 4, 4, 4, 4, 4, 4, 4, 4, 4, 4, 4, 4, 4, 4, 4, 4,\n",
       "       4, 4, 4, 4, 4, 4, 4, 4, 4, 4, 4, 4, 4, 4, 4, 4, 4, 4, 4, 4, 4, 4,\n",
       "       4, 4, 4, 4, 4, 4, 4, 4, 4, 4, 4, 4, 4, 4, 4, 4, 4, 4, 4, 4, 4, 4,\n",
       "       4, 4, 4, 4, 4, 4, 4, 4, 4, 4, 4, 4, 4, 4, 4, 4, 4, 4, 4, 4, 4, 4,\n",
       "       4, 4, 4, 4, 4, 4, 4, 4, 4, 4, 4, 4, 4, 4, 4, 4, 4, 4, 4, 4, 4, 4,\n",
       "       4, 4, 4, 4, 4, 4, 4, 4, 4, 4, 4, 4, 4, 4, 4, 4, 4, 4, 4, 4, 4, 4,\n",
       "       4, 4, 4, 4, 4, 4, 4, 4, 4, 4, 4, 4, 4, 4, 4, 4, 4, 4, 4, 4, 4, 4,\n",
       "       4, 4, 4, 4, 4, 4, 4, 4, 4, 4, 4, 4, 4, 4, 4, 4, 4, 4, 4, 4, 4, 4,\n",
       "       4, 4, 4, 4, 4, 4, 4, 4, 4, 4, 4, 4, 4, 4, 4, 4, 4, 4, 4, 4, 4, 4,\n",
       "       4, 4, 4, 4, 4, 4, 4, 4, 4, 4, 4, 4, 4, 4, 4, 4, 4, 4, 4, 4, 4, 4,\n",
       "       4, 4, 4, 4, 4, 4, 4, 4, 4, 4, 4, 4, 4, 4, 4, 4, 4, 4, 4, 4, 4, 4,\n",
       "       4, 4, 4, 4, 4, 4, 4, 4, 4, 4, 4, 4, 4, 4, 4, 4, 4, 4, 4, 4, 4, 4,\n",
       "       4, 4, 4, 4, 4, 4, 4, 4, 4, 4], dtype=int64)"
      ]
     },
     "execution_count": 5,
     "metadata": {},
     "output_type": "execute_result"
    }
   ],
   "source": [
    "y = data.iloc[:, 1].values \n",
    "y"
   ]
  },
  {
   "cell_type": "code",
   "execution_count": 6,
   "id": "27df298c",
   "metadata": {},
   "outputs": [],
   "source": [
    "x = data.iloc[:, 2].values \n",
    "x"
   ]
  },
  {
   "cell_type": "code",
   "execution_count": 7,
   "id": "51f3cffa",
   "metadata": {},
   "outputs": [
    {
     "name": "stdout",
     "output_type": "stream",
     "text": [
      "['caccgt', 'accgtc', 'ccgtca', 'cgtcag', 'gtcagt', 'tcagtg', 'cagtgc', 'agtgcc', 'gtgccg', 'tgccgt', 'gccgtg', 'ccgtgt', 'cgtgtt', 'gtgttc', 'tgttcc', 'gttcca', 'ttccag', 'tccagg']\n"
     ]
    }
   ],
   "source": [
    "print(x[2])"
   ]
  },
  {
   "cell_type": "code",
   "execution_count": 10,
   "id": "6ac46ca3",
   "metadata": {},
   "outputs": [],
   "source": [
    "# Creating the Bag of Words model using CountVectorizer()\n",
    "# This is equivalent to k-mer counting\n",
    "# The n-gram size of 4 was previously determined by testing\n",
    "from sklearn.feature_extraction.text import CountVectorizer\n",
    "cv = CountVectorizer(ngram_range=(4,4))\n",
    "x = cv.fit_transform(x)"
   ]
  },
  {
   "cell_type": "markdown",
   "id": "d1bed74f",
   "metadata": {},
   "source": [
    "### Change data type of x to array"
   ]
  },
  {
   "cell_type": "markdown",
   "id": "80cfd528",
   "metadata": {},
   "source": [
    "### \"scipy.sparse._csr.csr_matrix\" to \"numpy.ndarray\""
   ]
  },
  {
   "cell_type": "code",
   "execution_count": 13,
   "id": "fdd2fa41",
   "metadata": {},
   "outputs": [
    {
     "data": {
      "text/plain": [
       "numpy.ndarray"
      ]
     },
     "execution_count": 13,
     "metadata": {},
     "output_type": "execute_result"
    }
   ],
   "source": [
    "x = x.toarray()\n",
    "type(x)"
   ]
  },
  {
   "cell_type": "code",
   "execution_count": 12,
   "id": "c57af783",
   "metadata": {},
   "outputs": [
    {
     "name": "stdout",
     "output_type": "stream",
     "text": [
      "(758, 281538)\n"
     ]
    }
   ],
   "source": [
    "print(x.shape)"
   ]
  },
  {
   "cell_type": "code",
   "execution_count": 14,
   "id": "842ab0a3",
   "metadata": {},
   "outputs": [
    {
     "name": "stdout",
     "output_type": "stream",
     "text": [
      "[[0 0 0 ... 0 0 0]\n",
      " [0 0 0 ... 0 0 0]\n",
      " [0 0 0 ... 0 0 0]\n",
      " ...\n",
      " [0 0 0 ... 0 0 0]\n",
      " [0 0 0 ... 0 0 0]\n",
      " [0 0 0 ... 0 0 0]]\n"
     ]
    }
   ],
   "source": [
    "print(x)"
   ]
  },
  {
   "cell_type": "markdown",
   "id": "e999cdb2",
   "metadata": {},
   "source": [
    "## Spliting Dataset "
   ]
  },
  {
   "cell_type": "code",
   "execution_count": 15,
   "id": "816b010b",
   "metadata": {},
   "outputs": [],
   "source": [
    "#split data into training,validation and test sets\n",
    "\n",
    "#split the data into training and test sets\n",
    "x_train,x_test,y_train,y_test = train_test_split(x,y,test_size=0.2, random_state=0)\n",
    "\n",
    "#split the training set into two (training and validation)\n",
    "x_train, x_val, y_train, y_val = train_test_split(x,y,test_size=0.2)"
   ]
  },
  {
   "cell_type": "markdown",
   "id": "e6a0b864",
   "metadata": {},
   "source": [
    "## Model creation"
   ]
  },
  {
   "cell_type": "code",
   "execution_count": 16,
   "id": "87db25d6",
   "metadata": {},
   "outputs": [],
   "source": [
    "classes=np.unique(y)\n",
    "nclasses=np.unique(y).shape[0]"
   ]
  },
  {
   "cell_type": "code",
   "execution_count": 17,
   "id": "f0ed31fb",
   "metadata": {},
   "outputs": [
    {
     "name": "stdout",
     "output_type": "stream",
     "text": [
      "WARNING:tensorflow:From C:\\Users\\acer\\anaconda3\\Lib\\site-packages\\keras\\src\\backend.py:873: The name tf.get_default_graph is deprecated. Please use tf.compat.v1.get_default_graph instead.\n",
      "\n"
     ]
    }
   ],
   "source": [
    "#define model\n",
    "model = Sequential()\n",
    "\n",
    "#hidden layer 1\n",
    "model.add(Dense(40, input_dim=x_train.shape[1], activation='relu'))\n",
    "\n",
    "#hidden layer 2\n",
    "model.add(Dense(20, activation='relu'))\n",
    "\n",
    "#output layer\n",
    "model.add(Dense(nclasses, activation='softmax'))\n",
    "\n",
    "#define optimizer and learning rate. We will use Adam optimizer\n",
    "opt_adam = keras.optimizers.Adam(learning_rate=0.001)\n",
    "\n",
    "model.compile(loss=tf.keras.losses.SparseCategoricalCrossentropy(), optimizer=opt_adam, metrics=[keras.metrics.SparseCategoricalAccuracy()])\n"
   ]
  },
  {
   "cell_type": "code",
   "execution_count": 18,
   "id": "2659ff6f",
   "metadata": {},
   "outputs": [
    {
     "name": "stdout",
     "output_type": "stream",
     "text": [
      "Epoch 1/200\n",
      "WARNING:tensorflow:From C:\\Users\\acer\\anaconda3\\Lib\\site-packages\\keras\\src\\utils\\tf_utils.py:492: The name tf.ragged.RaggedTensorValue is deprecated. Please use tf.compat.v1.ragged.RaggedTensorValue instead.\n",
      "\n",
      "19/19 [==============================] - 8s 222ms/step - loss: 71.1767 - sparse_categorical_accuracy: 0.5066 - val_loss: 1.6398 - val_sparse_categorical_accuracy: 0.4013\n",
      "Epoch 2/200\n",
      "19/19 [==============================] - 2s 106ms/step - loss: 1.9430 - sparse_categorical_accuracy: 0.5429 - val_loss: 1.1668 - val_sparse_categorical_accuracy: 0.6579\n",
      "Epoch 3/200\n",
      "19/19 [==============================] - 2s 100ms/step - loss: 0.9106 - sparse_categorical_accuracy: 0.7673 - val_loss: 142.8746 - val_sparse_categorical_accuracy: 0.7303\n",
      "Epoch 4/200\n",
      "19/19 [==============================] - 2s 102ms/step - loss: 27.5250 - sparse_categorical_accuracy: 0.7492 - val_loss: 26.1589 - val_sparse_categorical_accuracy: 0.5132\n",
      "Epoch 5/200\n",
      "19/19 [==============================] - 2s 119ms/step - loss: 2.6184 - sparse_categorical_accuracy: 0.6205 - val_loss: 1.6464 - val_sparse_categorical_accuracy: 0.6250\n",
      "Epoch 6/200\n",
      "19/19 [==============================] - 2s 113ms/step - loss: 0.8669 - sparse_categorical_accuracy: 0.8614 - val_loss: 0.8373 - val_sparse_categorical_accuracy: 0.8421\n",
      "Epoch 7/200\n",
      "19/19 [==============================] - 2s 103ms/step - loss: 0.5531 - sparse_categorical_accuracy: 0.9521 - val_loss: 0.7530 - val_sparse_categorical_accuracy: 0.8684\n",
      "Epoch 8/200\n",
      "19/19 [==============================] - 2s 108ms/step - loss: 0.4704 - sparse_categorical_accuracy: 0.9620 - val_loss: 0.7103 - val_sparse_categorical_accuracy: 0.8684\n",
      "Epoch 9/200\n",
      "19/19 [==============================] - 2s 102ms/step - loss: 0.3964 - sparse_categorical_accuracy: 0.9670 - val_loss: 0.6772 - val_sparse_categorical_accuracy: 0.8684\n",
      "Epoch 10/200\n",
      "19/19 [==============================] - 2s 109ms/step - loss: 0.3355 - sparse_categorical_accuracy: 0.9653 - val_loss: 0.6523 - val_sparse_categorical_accuracy: 0.8684\n",
      "Epoch 11/200\n",
      "19/19 [==============================] - 2s 104ms/step - loss: 0.2834 - sparse_categorical_accuracy: 0.9703 - val_loss: 0.6390 - val_sparse_categorical_accuracy: 0.8684\n",
      "Epoch 12/200\n",
      "19/19 [==============================] - 2s 110ms/step - loss: 0.2419 - sparse_categorical_accuracy: 0.9802 - val_loss: 0.6320 - val_sparse_categorical_accuracy: 0.8684\n",
      "Epoch 13/200\n",
      "19/19 [==============================] - 2s 111ms/step - loss: 0.2080 - sparse_categorical_accuracy: 0.9917 - val_loss: 0.6288 - val_sparse_categorical_accuracy: 0.8684\n",
      "Epoch 14/200\n",
      "19/19 [==============================] - 2s 100ms/step - loss: 0.1770 - sparse_categorical_accuracy: 0.9983 - val_loss: 0.6320 - val_sparse_categorical_accuracy: 0.8487\n",
      "Epoch 15/200\n",
      "19/19 [==============================] - 2s 109ms/step - loss: 0.1510 - sparse_categorical_accuracy: 0.9983 - val_loss: 0.6368 - val_sparse_categorical_accuracy: 0.8487\n",
      "Epoch 16/200\n",
      "19/19 [==============================] - 2s 113ms/step - loss: 0.1295 - sparse_categorical_accuracy: 0.9983 - val_loss: 0.6451 - val_sparse_categorical_accuracy: 0.8487\n",
      "Epoch 17/200\n",
      "19/19 [==============================] - 2s 106ms/step - loss: 0.1111 - sparse_categorical_accuracy: 0.9967 - val_loss: 0.6567 - val_sparse_categorical_accuracy: 0.8618\n",
      "Epoch 18/200\n",
      "19/19 [==============================] - 2s 102ms/step - loss: 0.0942 - sparse_categorical_accuracy: 0.9983 - val_loss: 0.6526 - val_sparse_categorical_accuracy: 0.8684\n",
      "Epoch 19/200\n",
      "19/19 [==============================] - 2s 105ms/step - loss: 0.0778 - sparse_categorical_accuracy: 0.9983 - val_loss: 0.6477 - val_sparse_categorical_accuracy: 0.8684\n",
      "Epoch 20/200\n",
      "19/19 [==============================] - 2s 103ms/step - loss: 0.0647 - sparse_categorical_accuracy: 0.9967 - val_loss: 0.6657 - val_sparse_categorical_accuracy: 0.8618\n",
      "Epoch 21/200\n",
      "19/19 [==============================] - 2s 102ms/step - loss: 0.0525 - sparse_categorical_accuracy: 0.9983 - val_loss: 7.3802 - val_sparse_categorical_accuracy: 0.8421\n",
      "Epoch 22/200\n",
      "19/19 [==============================] - 2s 107ms/step - loss: 0.0492 - sparse_categorical_accuracy: 0.9983 - val_loss: 26.8242 - val_sparse_categorical_accuracy: 0.8487\n",
      "Epoch 23/200\n",
      "19/19 [==============================] - 2s 103ms/step - loss: 0.0406 - sparse_categorical_accuracy: 0.9950 - val_loss: 41.9254 - val_sparse_categorical_accuracy: 0.8487\n",
      "Epoch 24/200\n",
      "19/19 [==============================] - 2s 97ms/step - loss: 0.0338 - sparse_categorical_accuracy: 0.9983 - val_loss: 59.6281 - val_sparse_categorical_accuracy: 0.8487\n",
      "Epoch 25/200\n",
      "19/19 [==============================] - 2s 101ms/step - loss: 0.0292 - sparse_categorical_accuracy: 0.9983 - val_loss: 105.1975 - val_sparse_categorical_accuracy: 0.8487\n",
      "Epoch 26/200\n",
      "19/19 [==============================] - 2s 101ms/step - loss: 0.0258 - sparse_categorical_accuracy: 0.9983 - val_loss: 192.9336 - val_sparse_categorical_accuracy: 0.8487\n",
      "Epoch 27/200\n",
      "19/19 [==============================] - 2s 101ms/step - loss: 0.0231 - sparse_categorical_accuracy: 0.9983 - val_loss: 269.7912 - val_sparse_categorical_accuracy: 0.8553\n",
      "Epoch 28/200\n",
      "19/19 [==============================] - 2s 104ms/step - loss: 10.4287 - sparse_categorical_accuracy: 0.7591 - val_loss: 10.2725 - val_sparse_categorical_accuracy: 0.5329\n",
      "Epoch 29/200\n",
      "19/19 [==============================] - 2s 109ms/step - loss: 39.3978 - sparse_categorical_accuracy: 0.6337 - val_loss: 10.6138 - val_sparse_categorical_accuracy: 0.5461\n",
      "Epoch 30/200\n",
      "19/19 [==============================] - 2s 108ms/step - loss: 13.0516 - sparse_categorical_accuracy: 0.6634 - val_loss: 8.1041 - val_sparse_categorical_accuracy: 0.5921\n",
      "Epoch 31/200\n",
      "19/19 [==============================] - 2s 102ms/step - loss: 7.3198 - sparse_categorical_accuracy: 0.7195 - val_loss: 3.7720 - val_sparse_categorical_accuracy: 0.6645\n",
      "Epoch 32/200\n",
      "19/19 [==============================] - 2s 104ms/step - loss: 2.0886 - sparse_categorical_accuracy: 0.8878 - val_loss: 2.3004 - val_sparse_categorical_accuracy: 0.7434\n",
      "Epoch 33/200\n",
      "19/19 [==============================] - 2s 109ms/step - loss: 0.7086 - sparse_categorical_accuracy: 0.9587 - val_loss: 1.4659 - val_sparse_categorical_accuracy: 0.8487\n",
      "Epoch 34/200\n",
      "19/19 [==============================] - 2s 111ms/step - loss: 0.1547 - sparse_categorical_accuracy: 0.9917 - val_loss: 1.3638 - val_sparse_categorical_accuracy: 0.8618\n",
      "Epoch 35/200\n",
      "19/19 [==============================] - 2s 113ms/step - loss: 0.0420 - sparse_categorical_accuracy: 0.9917 - val_loss: 1.2959 - val_sparse_categorical_accuracy: 0.8618\n",
      "Epoch 36/200\n",
      "19/19 [==============================] - 2s 119ms/step - loss: 0.0458 - sparse_categorical_accuracy: 0.9934 - val_loss: 1.2618 - val_sparse_categorical_accuracy: 0.8618\n",
      "Epoch 37/200\n",
      "19/19 [==============================] - 2s 121ms/step - loss: 0.0443 - sparse_categorical_accuracy: 0.9934 - val_loss: 1.2447 - val_sparse_categorical_accuracy: 0.8618\n",
      "Epoch 38/200\n",
      "19/19 [==============================] - 2s 123ms/step - loss: 0.0294 - sparse_categorical_accuracy: 0.9967 - val_loss: 1.2159 - val_sparse_categorical_accuracy: 0.8618\n",
      "Epoch 39/200\n",
      "19/19 [==============================] - 2s 123ms/step - loss: 0.0175 - sparse_categorical_accuracy: 0.9950 - val_loss: 1.1998 - val_sparse_categorical_accuracy: 0.8618\n",
      "Epoch 40/200\n",
      "19/19 [==============================] - 2s 124ms/step - loss: 0.0155 - sparse_categorical_accuracy: 0.9967 - val_loss: 1.1921 - val_sparse_categorical_accuracy: 0.8618\n",
      "Epoch 41/200\n",
      "19/19 [==============================] - 2s 122ms/step - loss: 0.0160 - sparse_categorical_accuracy: 0.9983 - val_loss: 1.1924 - val_sparse_categorical_accuracy: 0.8618\n",
      "Epoch 42/200\n",
      "19/19 [==============================] - 2s 124ms/step - loss: 0.0113 - sparse_categorical_accuracy: 0.9983 - val_loss: 1.1893 - val_sparse_categorical_accuracy: 0.8618\n",
      "Epoch 43/200\n",
      "19/19 [==============================] - 2s 126ms/step - loss: 0.0166 - sparse_categorical_accuracy: 0.9983 - val_loss: 1.1873 - val_sparse_categorical_accuracy: 0.8618\n",
      "Epoch 44/200\n",
      "19/19 [==============================] - 2s 119ms/step - loss: 0.0161 - sparse_categorical_accuracy: 0.9967 - val_loss: 1.1856 - val_sparse_categorical_accuracy: 0.8618\n"
     ]
    },
    {
     "name": "stdout",
     "output_type": "stream",
     "text": [
      "Epoch 45/200\n",
      "19/19 [==============================] - 2s 127ms/step - loss: 0.0168 - sparse_categorical_accuracy: 0.9983 - val_loss: 1.1854 - val_sparse_categorical_accuracy: 0.8618\n",
      "Epoch 46/200\n",
      "19/19 [==============================] - 2s 130ms/step - loss: 0.0119 - sparse_categorical_accuracy: 0.9967 - val_loss: 1.1866 - val_sparse_categorical_accuracy: 0.8618\n",
      "Epoch 47/200\n",
      "19/19 [==============================] - 2s 118ms/step - loss: 0.0118 - sparse_categorical_accuracy: 0.9983 - val_loss: 1.1889 - val_sparse_categorical_accuracy: 0.8618\n",
      "Epoch 48/200\n",
      "19/19 [==============================] - 2s 118ms/step - loss: 0.0098 - sparse_categorical_accuracy: 0.9983 - val_loss: 1.1859 - val_sparse_categorical_accuracy: 0.8618\n",
      "Epoch 49/200\n",
      "19/19 [==============================] - 2s 118ms/step - loss: 0.0133 - sparse_categorical_accuracy: 0.9983 - val_loss: 1.1835 - val_sparse_categorical_accuracy: 0.8618\n",
      "Epoch 50/200\n",
      "19/19 [==============================] - 2s 119ms/step - loss: 0.0089 - sparse_categorical_accuracy: 0.9983 - val_loss: 1.1869 - val_sparse_categorical_accuracy: 0.8618\n",
      "Epoch 51/200\n",
      "19/19 [==============================] - 2s 120ms/step - loss: 0.0139 - sparse_categorical_accuracy: 0.9967 - val_loss: 1.1832 - val_sparse_categorical_accuracy: 0.8618\n",
      "Epoch 52/200\n",
      "19/19 [==============================] - 2s 117ms/step - loss: 0.0091 - sparse_categorical_accuracy: 0.9967 - val_loss: 1.1863 - val_sparse_categorical_accuracy: 0.8618\n",
      "Epoch 53/200\n",
      "19/19 [==============================] - 2s 116ms/step - loss: 0.0096 - sparse_categorical_accuracy: 0.9967 - val_loss: 1.1814 - val_sparse_categorical_accuracy: 0.8618\n",
      "Epoch 54/200\n",
      "19/19 [==============================] - 2s 120ms/step - loss: 0.0082 - sparse_categorical_accuracy: 0.9983 - val_loss: 1.1805 - val_sparse_categorical_accuracy: 0.8618\n",
      "Epoch 55/200\n",
      "19/19 [==============================] - 2s 120ms/step - loss: 0.0080 - sparse_categorical_accuracy: 0.9983 - val_loss: 1.1795 - val_sparse_categorical_accuracy: 0.8618\n",
      "Epoch 56/200\n",
      "19/19 [==============================] - 2s 120ms/step - loss: 0.0099 - sparse_categorical_accuracy: 0.9967 - val_loss: 1.1818 - val_sparse_categorical_accuracy: 0.8618\n",
      "Epoch 57/200\n",
      "19/19 [==============================] - 2s 118ms/step - loss: 0.0089 - sparse_categorical_accuracy: 0.9983 - val_loss: 1.1817 - val_sparse_categorical_accuracy: 0.8618\n",
      "Epoch 58/200\n",
      "19/19 [==============================] - 2s 120ms/step - loss: 0.0114 - sparse_categorical_accuracy: 0.9967 - val_loss: 1.1764 - val_sparse_categorical_accuracy: 0.8618\n",
      "Epoch 59/200\n",
      "19/19 [==============================] - 2s 117ms/step - loss: 0.0048 - sparse_categorical_accuracy: 1.0000 - val_loss: 1.1832 - val_sparse_categorical_accuracy: 0.8618\n",
      "Epoch 60/200\n",
      "19/19 [==============================] - 2s 119ms/step - loss: 0.0082 - sparse_categorical_accuracy: 0.9983 - val_loss: 1.1755 - val_sparse_categorical_accuracy: 0.8618\n",
      "Epoch 61/200\n",
      "19/19 [==============================] - 2s 121ms/step - loss: 0.0084 - sparse_categorical_accuracy: 0.9983 - val_loss: 1.1792 - val_sparse_categorical_accuracy: 0.8618\n",
      "Epoch 62/200\n",
      "19/19 [==============================] - 2s 118ms/step - loss: 0.0086 - sparse_categorical_accuracy: 0.9967 - val_loss: 1.1766 - val_sparse_categorical_accuracy: 0.8618\n",
      "Epoch 63/200\n",
      "19/19 [==============================] - 2s 122ms/step - loss: 0.0050 - sparse_categorical_accuracy: 1.0000 - val_loss: 1.1831 - val_sparse_categorical_accuracy: 0.8618\n",
      "Epoch 64/200\n",
      "19/19 [==============================] - 2s 119ms/step - loss: 0.0058 - sparse_categorical_accuracy: 0.9967 - val_loss: 1.1775 - val_sparse_categorical_accuracy: 0.8618\n",
      "Epoch 65/200\n",
      "19/19 [==============================] - 2s 118ms/step - loss: 0.0066 - sparse_categorical_accuracy: 0.9967 - val_loss: 1.1764 - val_sparse_categorical_accuracy: 0.8618\n",
      "Epoch 66/200\n",
      "19/19 [==============================] - 2s 115ms/step - loss: 0.0082 - sparse_categorical_accuracy: 0.9967 - val_loss: 1.1776 - val_sparse_categorical_accuracy: 0.8618\n",
      "Epoch 67/200\n",
      "19/19 [==============================] - 2s 121ms/step - loss: 0.0079 - sparse_categorical_accuracy: 0.9967 - val_loss: 1.1779 - val_sparse_categorical_accuracy: 0.8618\n",
      "Epoch 68/200\n",
      "19/19 [==============================] - 2s 130ms/step - loss: 0.0043 - sparse_categorical_accuracy: 0.9983 - val_loss: 1.1722 - val_sparse_categorical_accuracy: 0.8684\n",
      "Epoch 69/200\n",
      "19/19 [==============================] - 2s 126ms/step - loss: 0.0085 - sparse_categorical_accuracy: 0.9983 - val_loss: 1.1797 - val_sparse_categorical_accuracy: 0.8618\n",
      "Epoch 70/200\n",
      "19/19 [==============================] - 2s 121ms/step - loss: 0.0090 - sparse_categorical_accuracy: 0.9967 - val_loss: 1.1785 - val_sparse_categorical_accuracy: 0.8618\n",
      "Epoch 71/200\n",
      "19/19 [==============================] - 2s 124ms/step - loss: 0.0063 - sparse_categorical_accuracy: 0.9983 - val_loss: 1.1737 - val_sparse_categorical_accuracy: 0.8684\n",
      "Epoch 72/200\n",
      "19/19 [==============================] - 2s 129ms/step - loss: 0.0093 - sparse_categorical_accuracy: 0.9983 - val_loss: 1.1763 - val_sparse_categorical_accuracy: 0.8618\n",
      "Epoch 73/200\n",
      "19/19 [==============================] - 2s 128ms/step - loss: 0.0050 - sparse_categorical_accuracy: 0.9983 - val_loss: 1.1761 - val_sparse_categorical_accuracy: 0.8618\n",
      "Epoch 74/200\n",
      "19/19 [==============================] - 2s 122ms/step - loss: 0.0079 - sparse_categorical_accuracy: 0.9967 - val_loss: 1.1759 - val_sparse_categorical_accuracy: 0.8684\n",
      "Epoch 75/200\n",
      "19/19 [==============================] - 2s 119ms/step - loss: 0.0077 - sparse_categorical_accuracy: 0.9967 - val_loss: 1.1762 - val_sparse_categorical_accuracy: 0.8684\n",
      "Epoch 76/200\n",
      "19/19 [==============================] - 2s 120ms/step - loss: 0.0057 - sparse_categorical_accuracy: 0.9983 - val_loss: 1.1798 - val_sparse_categorical_accuracy: 0.8618\n",
      "Epoch 77/200\n",
      "19/19 [==============================] - 2s 122ms/step - loss: 0.0078 - sparse_categorical_accuracy: 0.9967 - val_loss: 1.1769 - val_sparse_categorical_accuracy: 0.8684\n",
      "Epoch 78/200\n",
      "19/19 [==============================] - 2s 120ms/step - loss: 0.0079 - sparse_categorical_accuracy: 0.9967 - val_loss: 1.1782 - val_sparse_categorical_accuracy: 0.8684\n",
      "Epoch 79/200\n",
      "19/19 [==============================] - 2s 128ms/step - loss: 0.0080 - sparse_categorical_accuracy: 0.9983 - val_loss: 1.1752 - val_sparse_categorical_accuracy: 0.8684\n",
      "Epoch 80/200\n",
      "19/19 [==============================] - 2s 123ms/step - loss: 0.0110 - sparse_categorical_accuracy: 0.9967 - val_loss: 1.1800 - val_sparse_categorical_accuracy: 0.8618\n",
      "Epoch 81/200\n",
      "19/19 [==============================] - 2s 125ms/step - loss: 0.0082 - sparse_categorical_accuracy: 0.9967 - val_loss: 1.1776 - val_sparse_categorical_accuracy: 0.8684\n",
      "Epoch 82/200\n",
      "19/19 [==============================] - 2s 120ms/step - loss: 0.0069 - sparse_categorical_accuracy: 0.9967 - val_loss: 1.1772 - val_sparse_categorical_accuracy: 0.8684\n",
      "Epoch 83/200\n",
      "19/19 [==============================] - 2s 120ms/step - loss: 0.0075 - sparse_categorical_accuracy: 0.9983 - val_loss: 1.1768 - val_sparse_categorical_accuracy: 0.8684\n",
      "Epoch 84/200\n",
      "19/19 [==============================] - 2s 121ms/step - loss: 0.0041 - sparse_categorical_accuracy: 0.9983 - val_loss: 1.1742 - val_sparse_categorical_accuracy: 0.8684\n",
      "Epoch 85/200\n",
      "19/19 [==============================] - 2s 123ms/step - loss: 0.0074 - sparse_categorical_accuracy: 0.9967 - val_loss: 1.1770 - val_sparse_categorical_accuracy: 0.8684\n",
      "Epoch 86/200\n",
      "19/19 [==============================] - 2s 124ms/step - loss: 0.0060 - sparse_categorical_accuracy: 0.9967 - val_loss: 1.1763 - val_sparse_categorical_accuracy: 0.8684\n",
      "Epoch 87/200\n",
      "19/19 [==============================] - 2s 125ms/step - loss: 0.0050 - sparse_categorical_accuracy: 0.9983 - val_loss: 1.1820 - val_sparse_categorical_accuracy: 0.8684\n",
      "Epoch 88/200\n",
      "19/19 [==============================] - 2s 122ms/step - loss: 0.0071 - sparse_categorical_accuracy: 0.9967 - val_loss: 1.1773 - val_sparse_categorical_accuracy: 0.8684\n",
      "Epoch 89/200\n",
      "19/19 [==============================] - 2s 123ms/step - loss: 0.0084 - sparse_categorical_accuracy: 0.9967 - val_loss: 1.1775 - val_sparse_categorical_accuracy: 0.8684\n",
      "Epoch 90/200\n"
     ]
    },
    {
     "name": "stdout",
     "output_type": "stream",
     "text": [
      "19/19 [==============================] - 2s 124ms/step - loss: 0.0065 - sparse_categorical_accuracy: 0.9983 - val_loss: 1.1789 - val_sparse_categorical_accuracy: 0.8684\n",
      "Epoch 91/200\n",
      "19/19 [==============================] - 2s 121ms/step - loss: 0.0056 - sparse_categorical_accuracy: 0.9983 - val_loss: 1.1786 - val_sparse_categorical_accuracy: 0.8684\n",
      "Epoch 92/200\n",
      "19/19 [==============================] - 2s 121ms/step - loss: 0.0041 - sparse_categorical_accuracy: 0.9983 - val_loss: 1.1776 - val_sparse_categorical_accuracy: 0.8684\n",
      "Epoch 93/200\n",
      "19/19 [==============================] - 2s 120ms/step - loss: 0.0063 - sparse_categorical_accuracy: 0.9967 - val_loss: 1.1787 - val_sparse_categorical_accuracy: 0.8684\n",
      "Epoch 94/200\n",
      "19/19 [==============================] - 2s 119ms/step - loss: 0.0041 - sparse_categorical_accuracy: 0.9967 - val_loss: 1.1788 - val_sparse_categorical_accuracy: 0.8684\n",
      "Epoch 95/200\n",
      "19/19 [==============================] - 2s 122ms/step - loss: 0.0059 - sparse_categorical_accuracy: 0.9967 - val_loss: 1.1791 - val_sparse_categorical_accuracy: 0.8684\n",
      "Epoch 96/200\n",
      "19/19 [==============================] - 2s 122ms/step - loss: 0.0054 - sparse_categorical_accuracy: 0.9983 - val_loss: 1.1793 - val_sparse_categorical_accuracy: 0.8684\n",
      "Epoch 97/200\n",
      "19/19 [==============================] - 2s 120ms/step - loss: 0.0074 - sparse_categorical_accuracy: 0.9983 - val_loss: 1.1757 - val_sparse_categorical_accuracy: 0.8684\n",
      "Epoch 98/200\n",
      "19/19 [==============================] - 2s 120ms/step - loss: 0.0012 - sparse_categorical_accuracy: 1.0000 - val_loss: 1.1832 - val_sparse_categorical_accuracy: 0.8684\n",
      "Epoch 99/200\n",
      "19/19 [==============================] - 2s 121ms/step - loss: 0.0067 - sparse_categorical_accuracy: 0.9983 - val_loss: 1.1756 - val_sparse_categorical_accuracy: 0.8684\n",
      "Epoch 100/200\n",
      "19/19 [==============================] - 2s 120ms/step - loss: 0.0098 - sparse_categorical_accuracy: 0.9983 - val_loss: 1.1779 - val_sparse_categorical_accuracy: 0.8684\n",
      "Epoch 101/200\n",
      "19/19 [==============================] - 2s 122ms/step - loss: 0.0044 - sparse_categorical_accuracy: 0.9983 - val_loss: 1.1876 - val_sparse_categorical_accuracy: 0.8684\n",
      "Epoch 102/200\n",
      "19/19 [==============================] - 2s 121ms/step - loss: 0.0088 - sparse_categorical_accuracy: 0.9983 - val_loss: 1.1780 - val_sparse_categorical_accuracy: 0.8684\n",
      "Epoch 103/200\n",
      "19/19 [==============================] - 2s 123ms/step - loss: 0.0115 - sparse_categorical_accuracy: 0.9983 - val_loss: 1.1724 - val_sparse_categorical_accuracy: 0.8684\n",
      "Epoch 104/200\n",
      "19/19 [==============================] - 2s 121ms/step - loss: 0.0071 - sparse_categorical_accuracy: 0.9967 - val_loss: 1.1854 - val_sparse_categorical_accuracy: 0.8684\n",
      "Epoch 105/200\n",
      "19/19 [==============================] - 2s 120ms/step - loss: 0.0032 - sparse_categorical_accuracy: 0.9983 - val_loss: 1.1757 - val_sparse_categorical_accuracy: 0.8684\n",
      "Epoch 106/200\n",
      "19/19 [==============================] - 2s 122ms/step - loss: 0.0078 - sparse_categorical_accuracy: 0.9983 - val_loss: 1.1841 - val_sparse_categorical_accuracy: 0.8684\n",
      "Epoch 107/200\n",
      "19/19 [==============================] - 2s 120ms/step - loss: 0.0065 - sparse_categorical_accuracy: 0.9983 - val_loss: 1.1846 - val_sparse_categorical_accuracy: 0.8684\n",
      "Epoch 108/200\n",
      "19/19 [==============================] - 2s 120ms/step - loss: 0.0082 - sparse_categorical_accuracy: 0.9983 - val_loss: 1.1804 - val_sparse_categorical_accuracy: 0.8684\n",
      "Epoch 109/200\n",
      "19/19 [==============================] - 2s 121ms/step - loss: 0.0048 - sparse_categorical_accuracy: 0.9983 - val_loss: 1.1810 - val_sparse_categorical_accuracy: 0.8684\n",
      "Epoch 110/200\n",
      "19/19 [==============================] - 2s 120ms/step - loss: 0.0075 - sparse_categorical_accuracy: 0.9967 - val_loss: 1.1836 - val_sparse_categorical_accuracy: 0.8684\n",
      "Epoch 111/200\n",
      "19/19 [==============================] - 2s 121ms/step - loss: 0.0056 - sparse_categorical_accuracy: 0.9983 - val_loss: 1.1864 - val_sparse_categorical_accuracy: 0.8684\n",
      "Epoch 112/200\n",
      "19/19 [==============================] - 2s 121ms/step - loss: 0.0060 - sparse_categorical_accuracy: 0.9983 - val_loss: 1.1839 - val_sparse_categorical_accuracy: 0.8684\n",
      "Epoch 113/200\n",
      "19/19 [==============================] - 2s 121ms/step - loss: 0.0044 - sparse_categorical_accuracy: 0.9983 - val_loss: 1.1817 - val_sparse_categorical_accuracy: 0.8684\n",
      "Epoch 114/200\n",
      "19/19 [==============================] - 2s 120ms/step - loss: 0.0054 - sparse_categorical_accuracy: 0.9983 - val_loss: 1.1852 - val_sparse_categorical_accuracy: 0.8684\n",
      "Epoch 115/200\n",
      "19/19 [==============================] - 2s 120ms/step - loss: 0.0045 - sparse_categorical_accuracy: 0.9967 - val_loss: 1.1849 - val_sparse_categorical_accuracy: 0.8684\n",
      "Epoch 116/200\n",
      "19/19 [==============================] - 2s 120ms/step - loss: 0.0043 - sparse_categorical_accuracy: 0.9967 - val_loss: 1.1850 - val_sparse_categorical_accuracy: 0.8684\n",
      "Epoch 117/200\n",
      "19/19 [==============================] - 2s 121ms/step - loss: 0.0066 - sparse_categorical_accuracy: 0.9983 - val_loss: 1.1879 - val_sparse_categorical_accuracy: 0.8684\n",
      "Epoch 118/200\n",
      "19/19 [==============================] - 2s 121ms/step - loss: 7.2832e-04 - sparse_categorical_accuracy: 1.0000 - val_loss: 1.1784 - val_sparse_categorical_accuracy: 0.8684\n",
      "Epoch 119/200\n",
      "19/19 [==============================] - 2s 121ms/step - loss: 0.0092 - sparse_categorical_accuracy: 0.9983 - val_loss: 1.1806 - val_sparse_categorical_accuracy: 0.8684\n",
      "Epoch 120/200\n",
      "19/19 [==============================] - 2s 120ms/step - loss: 0.0051 - sparse_categorical_accuracy: 0.9983 - val_loss: 1.1853 - val_sparse_categorical_accuracy: 0.8684\n",
      "Epoch 121/200\n",
      "19/19 [==============================] - 2s 120ms/step - loss: 0.0044 - sparse_categorical_accuracy: 0.9983 - val_loss: 1.1864 - val_sparse_categorical_accuracy: 0.8684\n",
      "Epoch 122/200\n",
      "19/19 [==============================] - 2s 120ms/step - loss: 0.0073 - sparse_categorical_accuracy: 0.9967 - val_loss: 1.1825 - val_sparse_categorical_accuracy: 0.8684\n",
      "Epoch 123/200\n",
      "19/19 [==============================] - 2s 121ms/step - loss: 0.0061 - sparse_categorical_accuracy: 0.9983 - val_loss: 1.1895 - val_sparse_categorical_accuracy: 0.8684\n",
      "Epoch 124/200\n",
      "19/19 [==============================] - 2s 121ms/step - loss: 0.0061 - sparse_categorical_accuracy: 0.9983 - val_loss: 1.1861 - val_sparse_categorical_accuracy: 0.8684\n",
      "Epoch 125/200\n",
      "19/19 [==============================] - 2s 119ms/step - loss: 0.0049 - sparse_categorical_accuracy: 0.9967 - val_loss: 1.1873 - val_sparse_categorical_accuracy: 0.8684\n",
      "Epoch 126/200\n",
      "19/19 [==============================] - 2s 119ms/step - loss: 0.0078 - sparse_categorical_accuracy: 0.9983 - val_loss: 1.1912 - val_sparse_categorical_accuracy: 0.8684\n",
      "Epoch 127/200\n",
      "19/19 [==============================] - 2s 120ms/step - loss: 0.0137 - sparse_categorical_accuracy: 0.9967 - val_loss: 1.1810 - val_sparse_categorical_accuracy: 0.8684\n",
      "Epoch 128/200\n",
      "19/19 [==============================] - 2s 122ms/step - loss: 0.0057 - sparse_categorical_accuracy: 0.9983 - val_loss: 1.1883 - val_sparse_categorical_accuracy: 0.8684\n",
      "Epoch 129/200\n",
      "19/19 [==============================] - 2s 119ms/step - loss: 0.0055 - sparse_categorical_accuracy: 0.9983 - val_loss: 1.1877 - val_sparse_categorical_accuracy: 0.8684\n",
      "Epoch 130/200\n",
      "19/19 [==============================] - 2s 118ms/step - loss: 0.0061 - sparse_categorical_accuracy: 0.9967 - val_loss: 1.1902 - val_sparse_categorical_accuracy: 0.8684\n",
      "Epoch 131/200\n",
      "19/19 [==============================] - 2s 118ms/step - loss: 0.0098 - sparse_categorical_accuracy: 0.9967 - val_loss: 1.1836 - val_sparse_categorical_accuracy: 0.8684\n",
      "Epoch 132/200\n",
      "19/19 [==============================] - 2s 120ms/step - loss: 8.0614e-04 - sparse_categorical_accuracy: 1.0000 - val_loss: 1.1945 - val_sparse_categorical_accuracy: 0.8684\n",
      "Epoch 133/200\n",
      "19/19 [==============================] - 2s 116ms/step - loss: 0.0080 - sparse_categorical_accuracy: 0.9967 - val_loss: 1.1929 - val_sparse_categorical_accuracy: 0.8684\n",
      "Epoch 134/200\n",
      "19/19 [==============================] - 2s 119ms/step - loss: 0.0043 - sparse_categorical_accuracy: 0.9983 - val_loss: 1.1893 - val_sparse_categorical_accuracy: 0.8684\n"
     ]
    },
    {
     "name": "stdout",
     "output_type": "stream",
     "text": [
      "Epoch 135/200\n",
      "19/19 [==============================] - 2s 121ms/step - loss: 0.0055 - sparse_categorical_accuracy: 0.9983 - val_loss: 1.1899 - val_sparse_categorical_accuracy: 0.8684\n",
      "Epoch 136/200\n",
      "19/19 [==============================] - 2s 122ms/step - loss: 0.0145 - sparse_categorical_accuracy: 0.9950 - val_loss: 1.1977 - val_sparse_categorical_accuracy: 0.8684\n",
      "Epoch 137/200\n",
      "19/19 [==============================] - 2s 121ms/step - loss: 0.0117 - sparse_categorical_accuracy: 0.9983 - val_loss: 1.1846 - val_sparse_categorical_accuracy: 0.8684\n",
      "Epoch 138/200\n",
      "19/19 [==============================] - 2s 120ms/step - loss: 0.0118 - sparse_categorical_accuracy: 0.9967 - val_loss: 1.1943 - val_sparse_categorical_accuracy: 0.8684\n",
      "Epoch 139/200\n",
      "19/19 [==============================] - 2s 122ms/step - loss: 0.0032 - sparse_categorical_accuracy: 0.9967 - val_loss: 1.1922 - val_sparse_categorical_accuracy: 0.8684\n",
      "Epoch 140/200\n",
      "19/19 [==============================] - 2s 121ms/step - loss: 0.0089 - sparse_categorical_accuracy: 0.9967 - val_loss: 1.1980 - val_sparse_categorical_accuracy: 0.8684\n",
      "Epoch 141/200\n",
      "19/19 [==============================] - 2s 120ms/step - loss: 0.0011 - sparse_categorical_accuracy: 1.0000 - val_loss: 1.1910 - val_sparse_categorical_accuracy: 0.8684\n",
      "Epoch 142/200\n",
      "19/19 [==============================] - 2s 120ms/step - loss: 0.0051 - sparse_categorical_accuracy: 0.9983 - val_loss: 1.1969 - val_sparse_categorical_accuracy: 0.8684\n",
      "Epoch 143/200\n",
      "19/19 [==============================] - 2s 120ms/step - loss: 0.0053 - sparse_categorical_accuracy: 0.9983 - val_loss: 1.1959 - val_sparse_categorical_accuracy: 0.8684\n",
      "Epoch 144/200\n",
      "19/19 [==============================] - 2s 120ms/step - loss: 7.8570e-04 - sparse_categorical_accuracy: 1.0000 - val_loss: 1.1903 - val_sparse_categorical_accuracy: 0.8684\n",
      "Epoch 145/200\n",
      "19/19 [==============================] - 2s 119ms/step - loss: 0.0069 - sparse_categorical_accuracy: 0.9983 - val_loss: 1.1900 - val_sparse_categorical_accuracy: 0.8684\n",
      "Epoch 146/200\n",
      "19/19 [==============================] - 2s 119ms/step - loss: 0.0048 - sparse_categorical_accuracy: 0.9983 - val_loss: 1.1941 - val_sparse_categorical_accuracy: 0.8684\n",
      "Epoch 147/200\n",
      "19/19 [==============================] - 2s 120ms/step - loss: 0.0041 - sparse_categorical_accuracy: 0.9983 - val_loss: 1.1950 - val_sparse_categorical_accuracy: 0.8684\n",
      "Epoch 148/200\n",
      "19/19 [==============================] - 2s 119ms/step - loss: 0.0056 - sparse_categorical_accuracy: 0.9967 - val_loss: 1.1959 - val_sparse_categorical_accuracy: 0.8684\n",
      "Epoch 149/200\n",
      "19/19 [==============================] - 2s 120ms/step - loss: 0.0051 - sparse_categorical_accuracy: 0.9983 - val_loss: 1.1947 - val_sparse_categorical_accuracy: 0.8684\n",
      "Epoch 150/200\n",
      "19/19 [==============================] - 2s 121ms/step - loss: 0.0041 - sparse_categorical_accuracy: 0.9967 - val_loss: 1.1923 - val_sparse_categorical_accuracy: 0.8684\n",
      "Epoch 151/200\n",
      "19/19 [==============================] - 2s 122ms/step - loss: 0.0074 - sparse_categorical_accuracy: 0.9967 - val_loss: 1.1955 - val_sparse_categorical_accuracy: 0.8684\n",
      "Epoch 152/200\n",
      "19/19 [==============================] - 2s 120ms/step - loss: 0.0059 - sparse_categorical_accuracy: 0.9983 - val_loss: 1.1985 - val_sparse_categorical_accuracy: 0.8684\n",
      "Epoch 153/200\n",
      "19/19 [==============================] - 2s 119ms/step - loss: 0.0061 - sparse_categorical_accuracy: 0.9983 - val_loss: 1.1978 - val_sparse_categorical_accuracy: 0.8684\n",
      "Epoch 154/200\n",
      "19/19 [==============================] - 2s 122ms/step - loss: 0.0123 - sparse_categorical_accuracy: 0.9983 - val_loss: 1.1921 - val_sparse_categorical_accuracy: 0.8684\n",
      "Epoch 155/200\n",
      "19/19 [==============================] - 2s 122ms/step - loss: 0.0063 - sparse_categorical_accuracy: 0.9967 - val_loss: 1.1997 - val_sparse_categorical_accuracy: 0.8684\n",
      "Epoch 156/200\n",
      "19/19 [==============================] - 2s 120ms/step - loss: 0.0041 - sparse_categorical_accuracy: 0.9983 - val_loss: 1.1970 - val_sparse_categorical_accuracy: 0.8684\n",
      "Epoch 157/200\n",
      "19/19 [==============================] - 2s 120ms/step - loss: 0.0073 - sparse_categorical_accuracy: 0.9967 - val_loss: 1.2003 - val_sparse_categorical_accuracy: 0.8684\n",
      "Epoch 158/200\n",
      "19/19 [==============================] - 2s 120ms/step - loss: 0.0042 - sparse_categorical_accuracy: 0.9983 - val_loss: 1.1983 - val_sparse_categorical_accuracy: 0.8684\n",
      "Epoch 159/200\n",
      "19/19 [==============================] - 2s 120ms/step - loss: 0.0073 - sparse_categorical_accuracy: 0.9967 - val_loss: 1.1992 - val_sparse_categorical_accuracy: 0.8684\n",
      "Epoch 160/200\n",
      "19/19 [==============================] - 2s 116ms/step - loss: 0.0055 - sparse_categorical_accuracy: 0.9967 - val_loss: 1.1977 - val_sparse_categorical_accuracy: 0.8684\n",
      "Epoch 161/200\n",
      "19/19 [==============================] - 2s 120ms/step - loss: 0.0066 - sparse_categorical_accuracy: 0.9983 - val_loss: 1.2013 - val_sparse_categorical_accuracy: 0.8684\n",
      "Epoch 162/200\n",
      "19/19 [==============================] - 2s 120ms/step - loss: 0.0054 - sparse_categorical_accuracy: 0.9983 - val_loss: 1.1987 - val_sparse_categorical_accuracy: 0.8684\n",
      "Epoch 163/200\n",
      "19/19 [==============================] - 2s 120ms/step - loss: 0.0070 - sparse_categorical_accuracy: 0.9983 - val_loss: 1.1976 - val_sparse_categorical_accuracy: 0.8684\n",
      "Epoch 164/200\n",
      "19/19 [==============================] - 2s 118ms/step - loss: 0.0063 - sparse_categorical_accuracy: 0.9983 - val_loss: 1.2020 - val_sparse_categorical_accuracy: 0.8684\n",
      "Epoch 165/200\n",
      "19/19 [==============================] - 2s 119ms/step - loss: 0.0062 - sparse_categorical_accuracy: 0.9983 - val_loss: 1.2015 - val_sparse_categorical_accuracy: 0.8684\n",
      "Epoch 166/200\n",
      "19/19 [==============================] - 2s 120ms/step - loss: 0.0025 - sparse_categorical_accuracy: 0.9983 - val_loss: 1.2074 - val_sparse_categorical_accuracy: 0.8684\n",
      "Epoch 167/200\n",
      "19/19 [==============================] - 2s 121ms/step - loss: 0.0080 - sparse_categorical_accuracy: 0.9983 - val_loss: 1.2028 - val_sparse_categorical_accuracy: 0.8684\n",
      "Epoch 168/200\n",
      "19/19 [==============================] - 2s 119ms/step - loss: 0.0029 - sparse_categorical_accuracy: 0.9983 - val_loss: 1.2025 - val_sparse_categorical_accuracy: 0.8684\n",
      "Epoch 169/200\n",
      "19/19 [==============================] - 2s 119ms/step - loss: 0.0070 - sparse_categorical_accuracy: 0.9983 - val_loss: 1.2037 - val_sparse_categorical_accuracy: 0.8684\n",
      "Epoch 170/200\n",
      "19/19 [==============================] - 2s 121ms/step - loss: 0.0041 - sparse_categorical_accuracy: 0.9983 - val_loss: 1.2016 - val_sparse_categorical_accuracy: 0.8684\n",
      "Epoch 171/200\n",
      "19/19 [==============================] - 2s 119ms/step - loss: 0.0043 - sparse_categorical_accuracy: 0.9983 - val_loss: 1.2016 - val_sparse_categorical_accuracy: 0.8684\n",
      "Epoch 172/200\n",
      "19/19 [==============================] - 2s 119ms/step - loss: 0.0113 - sparse_categorical_accuracy: 0.9967 - val_loss: 1.2098 - val_sparse_categorical_accuracy: 0.8684\n",
      "Epoch 173/200\n",
      "19/19 [==============================] - 2s 119ms/step - loss: 0.0104 - sparse_categorical_accuracy: 0.9967 - val_loss: 1.2053 - val_sparse_categorical_accuracy: 0.8684\n",
      "Epoch 174/200\n",
      "19/19 [==============================] - 2s 120ms/step - loss: 0.0061 - sparse_categorical_accuracy: 0.9983 - val_loss: 1.2085 - val_sparse_categorical_accuracy: 0.8684\n",
      "Epoch 175/200\n",
      "19/19 [==============================] - 2s 118ms/step - loss: 0.0075 - sparse_categorical_accuracy: 0.9983 - val_loss: 1.2031 - val_sparse_categorical_accuracy: 0.8684\n",
      "Epoch 176/200\n",
      "19/19 [==============================] - 2s 119ms/step - loss: 0.0045 - sparse_categorical_accuracy: 0.9967 - val_loss: 1.2091 - val_sparse_categorical_accuracy: 0.8684\n",
      "Epoch 177/200\n",
      "19/19 [==============================] - 2s 120ms/step - loss: 0.0051 - sparse_categorical_accuracy: 0.9967 - val_loss: 1.2058 - val_sparse_categorical_accuracy: 0.8684\n",
      "Epoch 178/200\n",
      "19/19 [==============================] - 2s 120ms/step - loss: 0.0086 - sparse_categorical_accuracy: 0.9967 - val_loss: 1.2110 - val_sparse_categorical_accuracy: 0.8684\n",
      "Epoch 179/200\n",
      "19/19 [==============================] - 2s 120ms/step - loss: 7.4321e-04 - sparse_categorical_accuracy: 1.0000 - val_loss: 1.2008 - val_sparse_categorical_accuracy: 0.8684\n"
     ]
    },
    {
     "name": "stdout",
     "output_type": "stream",
     "text": [
      "Epoch 180/200\n",
      "19/19 [==============================] - 2s 121ms/step - loss: 0.0117 - sparse_categorical_accuracy: 0.9983 - val_loss: 1.2024 - val_sparse_categorical_accuracy: 0.8684\n",
      "Epoch 181/200\n",
      "19/19 [==============================] - 2s 120ms/step - loss: 0.0015 - sparse_categorical_accuracy: 1.0000 - val_loss: 1.2102 - val_sparse_categorical_accuracy: 0.8684\n",
      "Epoch 182/200\n",
      "19/19 [==============================] - 2s 121ms/step - loss: 0.0077 - sparse_categorical_accuracy: 0.9983 - val_loss: 1.2076 - val_sparse_categorical_accuracy: 0.8684\n",
      "Epoch 183/200\n",
      "19/19 [==============================] - 2s 121ms/step - loss: 0.0125 - sparse_categorical_accuracy: 0.9983 - val_loss: 1.2010 - val_sparse_categorical_accuracy: 0.8684\n",
      "Epoch 184/200\n",
      "19/19 [==============================] - 2s 121ms/step - loss: 0.0093 - sparse_categorical_accuracy: 0.9967 - val_loss: 1.2143 - val_sparse_categorical_accuracy: 0.8684\n",
      "Epoch 185/200\n",
      "19/19 [==============================] - 2s 121ms/step - loss: 0.0060 - sparse_categorical_accuracy: 0.9983 - val_loss: 1.2078 - val_sparse_categorical_accuracy: 0.8684\n",
      "Epoch 186/200\n",
      "19/19 [==============================] - 2s 121ms/step - loss: 0.0086 - sparse_categorical_accuracy: 0.9967 - val_loss: 1.2111 - val_sparse_categorical_accuracy: 0.8684\n",
      "Epoch 187/200\n",
      "19/19 [==============================] - 2s 119ms/step - loss: 0.0050 - sparse_categorical_accuracy: 0.9983 - val_loss: 1.2141 - val_sparse_categorical_accuracy: 0.8684\n",
      "Epoch 188/200\n",
      "19/19 [==============================] - 2s 121ms/step - loss: 0.0053 - sparse_categorical_accuracy: 0.9983 - val_loss: 1.2100 - val_sparse_categorical_accuracy: 0.8684\n",
      "Epoch 189/200\n",
      "19/19 [==============================] - 2s 120ms/step - loss: 0.0043 - sparse_categorical_accuracy: 0.9983 - val_loss: 1.2142 - val_sparse_categorical_accuracy: 0.8684\n",
      "Epoch 190/200\n",
      "19/19 [==============================] - 2s 120ms/step - loss: 0.0102 - sparse_categorical_accuracy: 0.9967 - val_loss: 1.2096 - val_sparse_categorical_accuracy: 0.8684\n",
      "Epoch 191/200\n",
      "19/19 [==============================] - 2s 120ms/step - loss: 0.0019 - sparse_categorical_accuracy: 0.9983 - val_loss: 1.2172 - val_sparse_categorical_accuracy: 0.8684\n",
      "Epoch 192/200\n",
      "19/19 [==============================] - 2s 122ms/step - loss: 0.0075 - sparse_categorical_accuracy: 0.9983 - val_loss: 1.2167 - val_sparse_categorical_accuracy: 0.8684\n",
      "Epoch 193/200\n",
      "19/19 [==============================] - 2s 120ms/step - loss: 0.0098 - sparse_categorical_accuracy: 0.9983 - val_loss: 1.2111 - val_sparse_categorical_accuracy: 0.8684\n",
      "Epoch 194/200\n",
      "19/19 [==============================] - 2s 119ms/step - loss: 0.0029 - sparse_categorical_accuracy: 0.9983 - val_loss: 1.2218 - val_sparse_categorical_accuracy: 0.8684\n",
      "Epoch 195/200\n",
      "19/19 [==============================] - 2s 120ms/step - loss: 0.0095 - sparse_categorical_accuracy: 0.9983 - val_loss: 1.2110 - val_sparse_categorical_accuracy: 0.8684\n",
      "Epoch 196/200\n",
      "19/19 [==============================] - 2s 112ms/step - loss: 0.0100 - sparse_categorical_accuracy: 0.9983 - val_loss: 1.2161 - val_sparse_categorical_accuracy: 0.8684\n",
      "Epoch 197/200\n",
      "19/19 [==============================] - 2s 120ms/step - loss: 0.0054 - sparse_categorical_accuracy: 0.9983 - val_loss: 1.2169 - val_sparse_categorical_accuracy: 0.8684\n",
      "Epoch 198/200\n",
      "19/19 [==============================] - 2s 119ms/step - loss: 0.0065 - sparse_categorical_accuracy: 0.9983 - val_loss: 1.2165 - val_sparse_categorical_accuracy: 0.8684\n",
      "Epoch 199/200\n",
      "19/19 [==============================] - 2s 120ms/step - loss: 0.0064 - sparse_categorical_accuracy: 0.9983 - val_loss: 1.2197 - val_sparse_categorical_accuracy: 0.8684\n",
      "Epoch 200/200\n",
      "19/19 [==============================] - 2s 120ms/step - loss: 0.0070 - sparse_categorical_accuracy: 0.9983 - val_loss: 1.2216 - val_sparse_categorical_accuracy: 0.8684\n"
     ]
    },
    {
     "data": {
      "text/plain": [
       "<keras.src.callbacks.History at 0x21059d9f0d0>"
      ]
     },
     "execution_count": 18,
     "metadata": {},
     "output_type": "execute_result"
    }
   ],
   "source": [
    "#fit the model to the training data\n",
    "model.fit(x_train, y_train, validation_data=(x_val, y_val), batch_size=32,epochs=200, verbose=1)\n"
   ]
  },
  {
   "cell_type": "markdown",
   "id": "f7cc3fc4",
   "metadata": {},
   "source": [
    "## Create Confussion matrix"
   ]
  },
  {
   "cell_type": "code",
   "execution_count": 19,
   "id": "7dcc1029",
   "metadata": {},
   "outputs": [
    {
     "name": "stdout",
     "output_type": "stream",
     "text": [
      "5/5 [==============================] - 1s 29ms/step\n"
     ]
    }
   ],
   "source": [
    "predictions = model.predict(x_test)\n",
    "accuracy = model.evaluate(x_test, y_test, verbose=0)"
   ]
  },
  {
   "cell_type": "code",
   "execution_count": 20,
   "id": "6091d946",
   "metadata": {},
   "outputs": [
    {
     "name": "stdout",
     "output_type": "stream",
     "text": [
      "5/5 [==============================] - 0s 32ms/step\n"
     ]
    },
    {
     "data": {
      "text/plain": [
       "array([6.4477535e-05, 4.8835955e-05, 9.9974936e-01, 1.3126638e-04,\n",
       "       6.1125361e-06], dtype=float32)"
      ]
     },
     "execution_count": 20,
     "metadata": {},
     "output_type": "execute_result"
    }
   ],
   "source": [
    "y_predicted = model.predict(x_test)\n",
    "y_predicted[6]"
   ]
  },
  {
   "cell_type": "code",
   "execution_count": 21,
   "id": "8e0be730",
   "metadata": {},
   "outputs": [
    {
     "data": {
      "text/plain": [
       "[4, 3, 4, 0, 4]"
      ]
     },
     "execution_count": 21,
     "metadata": {},
     "output_type": "execute_result"
    }
   ],
   "source": [
    "y_predicted_label = [np.argmax(i) for i in y_predicted]\n",
    "y_predicted_label[:5]"
   ]
  },
  {
   "cell_type": "code",
   "execution_count": 22,
   "id": "bcf2c293",
   "metadata": {},
   "outputs": [
    {
     "data": {
      "text/plain": [
       "<tf.Tensor: shape=(5, 5), dtype=int32, numpy=\n",
       "array([[25,  0,  0,  0,  0],\n",
       "       [ 0, 12,  0,  0,  0],\n",
       "       [ 0,  0, 21,  0,  1],\n",
       "       [ 0,  0,  0, 19,  0],\n",
       "       [ 0,  0,  0,  0, 74]])>"
      ]
     },
     "execution_count": 22,
     "metadata": {},
     "output_type": "execute_result"
    }
   ],
   "source": [
    "cm = tf.math.confusion_matrix(labels=y_test, predictions=y_predicted_label)\n",
    "cm"
   ]
  },
  {
   "cell_type": "code",
   "execution_count": 23,
   "id": "e2ffbc2c",
   "metadata": {},
   "outputs": [
    {
     "data": {
      "text/plain": [
       "Text(95.72222222222221, 0.5, 'Truth')"
      ]
     },
     "execution_count": 23,
     "metadata": {},
     "output_type": "execute_result"
    },
    {
     "data": {
      "image/png": "[encoded data removed]",
      "text/plain": [
       "<Figure size 1000x700 with 2 Axes>"
      ]
     },
     "metadata": {},
     "output_type": "display_data"
    }
   ],
   "source": [
    "import seaborn as sn \n",
    "plt.figure(figsize=(10,7))\n",
    "sn.heatmap(cm, annot=True, fmt='d')\n",
    "plt.xlabel('predicted')\n",
    "plt.ylabel('Truth')"
   ]
  },
  {
   "cell_type": "code",
   "execution_count": 24,
   "id": "114e8150",
   "metadata": {},
   "outputs": [
    {
     "name": "stdout",
     "output_type": "stream",
     "text": [
      "5/5 [==============================] - 0s 34ms/step\n"
     ]
    },
    {
     "data": {
      "text/plain": [
       "array([[2.60911658e-29, 0.00000000e+00, 0.00000000e+00, 0.00000000e+00,\n",
       "        1.00000000e+00],\n",
       "       [3.59694586e-33, 4.43469456e-10, 6.17511935e-26, 1.00000000e+00,\n",
       "        4.90330387e-10],\n",
       "       [3.37352790e-02, 2.74276845e-02, 1.39349457e-02, 7.21846074e-02,\n",
       "        8.52717459e-01],\n",
       "       [9.99937296e-01, 1.37019910e-07, 1.08793101e-05, 4.96681096e-05,\n",
       "        2.03149079e-06],\n",
       "       [2.65057193e-34, 8.06163692e-22, 0.00000000e+00, 3.76641303e-21,\n",
       "        1.00000000e+00],\n",
       "       [9.99937296e-01, 1.37019910e-07, 1.08793101e-05, 4.96681096e-05,\n",
       "        2.03149079e-06],\n",
       "       [6.44775355e-05, 4.88359547e-05, 9.99749362e-01, 1.31266381e-04,\n",
       "        6.11253608e-06],\n",
       "       [9.99867320e-01, 3.07815327e-07, 2.19729263e-05, 1.05145446e-04,\n",
       "        5.22233358e-06],\n",
       "       [1.42249569e-31, 1.00000000e+00, 4.77816209e-16, 5.19931702e-11,\n",
       "        1.31088812e-18],\n",
       "       [8.47606498e-06, 1.33501890e-04, 8.06862261e-07, 1.69506136e-04,\n",
       "        9.99687672e-01],\n",
       "       [9.59062163e-05, 5.97906364e-05, 9.99658942e-01, 1.72015731e-04,\n",
       "        1.33733465e-05],\n",
       "       [4.87659847e-34, 1.50802343e-10, 2.27530635e-27, 1.00000000e+00,\n",
       "        3.22937815e-10],\n",
       "       [0.00000000e+00, 8.44976977e-09, 1.92417007e-16, 1.00000000e+00,\n",
       "        5.59694543e-16],\n",
       "       [9.99876976e-01, 3.76731265e-07, 2.16754070e-05, 9.42290571e-05,\n",
       "        6.65217567e-06],\n",
       "       [0.00000000e+00, 1.25854552e-32, 0.00000000e+00, 1.00000000e+00,\n",
       "        0.00000000e+00],\n",
       "       [7.09960441e-05, 5.13864734e-06, 9.09850684e-08, 1.18611293e-04,\n",
       "        9.99805152e-01],\n",
       "       [9.99955535e-01, 6.22000869e-08, 1.05756590e-05, 3.27137022e-05,\n",
       "        1.12413738e-06],\n",
       "       [2.25013164e-08, 9.99909878e-01, 1.95288085e-05, 2.03224045e-05,\n",
       "        5.02479379e-05],\n",
       "       [1.20753143e-07, 6.59740726e-06, 1.25593480e-09, 1.01786727e-05,\n",
       "        9.99983072e-01],\n",
       "       [5.01208396e-13, 5.37596190e-09, 7.84189555e-19, 4.59113743e-08,\n",
       "        1.00000000e+00],\n",
       "       [3.62730485e-10, 2.73908995e-07, 5.58775303e-13, 8.43951739e-07,\n",
       "        9.99998927e-01],\n",
       "       [1.14589234e-07, 5.83421589e-10, 4.58762932e-12, 3.12044949e-06,\n",
       "        9.99996781e-01],\n",
       "       [3.68156015e-16, 2.35001619e-18, 4.18693744e-21, 1.76339740e-14,\n",
       "        1.00000000e+00],\n",
       "       [8.54585906e-14, 2.50390420e-09, 4.15781850e-20, 1.01601108e-05,\n",
       "        9.99989867e-01],\n",
       "       [7.15311907e-22, 1.33863821e-07, 2.54848670e-10, 9.99999881e-01,\n",
       "        2.08775797e-09],\n",
       "       [4.55040009e-07, 5.06544748e-05, 2.24441021e-10, 1.11231068e-02,\n",
       "        9.88825738e-01],\n",
       "       [2.55820865e-04, 4.85026067e-05, 3.08071380e-04, 9.99308109e-01,\n",
       "        7.95004817e-05],\n",
       "       [4.03721331e-20, 3.34316375e-09, 9.99934793e-01, 6.51926457e-05,\n",
       "        4.49853418e-11],\n",
       "       [8.53289661e-10, 1.53173723e-08, 9.99999642e-01, 3.62720243e-07,\n",
       "        2.52107513e-09],\n",
       "       [1.23234742e-04, 9.58025248e-06, 1.86649602e-04, 9.99660969e-01,\n",
       "        1.96596520e-05],\n",
       "       [5.33298128e-10, 1.52293360e-08, 9.99999642e-01, 3.55988334e-07,\n",
       "        2.22625829e-09],\n",
       "       [4.06255448e-18, 1.33883480e-34, 1.74885535e-35, 2.51798907e-18,\n",
       "        1.00000000e+00],\n",
       "       [3.97938876e-10, 7.33007521e-09, 9.99999285e-01, 7.32777664e-07,\n",
       "        3.93469790e-08],\n",
       "       [3.80104584e-33, 1.17937649e-30, 0.00000000e+00, 8.70517042e-16,\n",
       "        1.00000000e+00],\n",
       "       [0.00000000e+00, 0.00000000e+00, 0.00000000e+00, 7.20994755e-27,\n",
       "        1.00000000e+00],\n",
       "       [7.03659575e-10, 1.82676381e-08, 9.99999523e-01, 4.47728780e-07,\n",
       "        3.12023296e-09],\n",
       "       [9.99949336e-01, 1.17612252e-07, 1.15478651e-05, 3.70480848e-05,\n",
       "        1.94294580e-06],\n",
       "       [9.99709308e-01, 8.92613400e-07, 5.02386283e-05, 2.22690433e-04,\n",
       "        1.68585448e-05],\n",
       "       [3.31369428e-29, 2.53781523e-14, 2.92403710e-12, 1.00000000e+00,\n",
       "        4.39832056e-14],\n",
       "       [1.95955904e-20, 8.89348611e-28, 0.00000000e+00, 1.96557242e-18,\n",
       "        1.00000000e+00],\n",
       "       [1.28791304e-04, 2.27400516e-08, 2.34470212e-06, 5.27664786e-03,\n",
       "        9.94592130e-01],\n",
       "       [6.51282098e-05, 2.99669045e-05, 9.99780357e-01, 1.18358970e-04,\n",
       "        6.19840284e-06],\n",
       "       [7.96110442e-07, 1.30911085e-05, 2.51200447e-08, 2.06455315e-05,\n",
       "        9.99965429e-01],\n",
       "       [9.99869823e-01, 9.73609872e-07, 2.66870902e-05, 8.14471423e-05,\n",
       "        2.11328806e-05],\n",
       "       [3.98329403e-18, 1.75325873e-18, 1.39033521e-21, 2.18344278e-15,\n",
       "        1.00000000e+00],\n",
       "       [5.92921134e-09, 9.99980927e-01, 4.08345750e-06, 6.42678424e-06,\n",
       "        8.56089810e-06],\n",
       "       [1.96206338e-06, 1.43209700e-05, 5.82567081e-05, 8.80394578e-02,\n",
       "        9.11885977e-01],\n",
       "       [8.85864424e-36, 0.00000000e+00, 0.00000000e+00, 5.47591301e-31,\n",
       "        1.00000000e+00],\n",
       "       [9.99937296e-01, 1.37019910e-07, 1.08793101e-05, 4.96681096e-05,\n",
       "        2.03149079e-06],\n",
       "       [1.66298042e-27, 1.88225514e-20, 0.00000000e+00, 2.37557019e-09,\n",
       "        1.00000000e+00],\n",
       "       [0.00000000e+00, 0.00000000e+00, 0.00000000e+00, 4.03036083e-38,\n",
       "        1.00000000e+00],\n",
       "       [9.99934196e-01, 1.94848198e-07, 1.38295281e-05, 4.87600882e-05,\n",
       "        2.94630809e-06],\n",
       "       [3.39264489e-07, 1.64855326e-12, 1.08905207e-15, 1.28405205e-07,\n",
       "        9.99999523e-01],\n",
       "       [0.00000000e+00, 8.43032222e-32, 0.00000000e+00, 1.00000000e+00,\n",
       "        1.08762890e-37],\n",
       "       [9.38154244e-07, 1.18238149e-05, 1.74511534e-08, 2.04600783e-05,\n",
       "        9.99966741e-01],\n",
       "       [1.46036812e-31, 0.00000000e+00, 0.00000000e+00, 5.22347298e-33,\n",
       "        1.00000000e+00],\n",
       "       [2.09177734e-23, 7.46089651e-35, 0.00000000e+00, 4.20256900e-22,\n",
       "        1.00000000e+00],\n",
       "       [6.49108479e-05, 4.30955697e-05, 9.99720991e-01, 1.61716423e-04,\n",
       "        9.17361649e-06],\n",
       "       [4.12224344e-09, 4.00984050e-07, 1.34731054e-11, 2.26040970e-06,\n",
       "        9.99997377e-01],\n",
       "       [7.24318943e-06, 2.60372894e-06, 4.73057433e-08, 4.52150125e-05,\n",
       "        9.99944925e-01],\n",
       "       [7.19633608e-05, 3.09513125e-04, 7.27696806e-06, 5.52183890e-04,\n",
       "        9.99059141e-01],\n",
       "       [6.64351887e-07, 1.01718937e-11, 2.27327615e-10, 4.06535401e-06,\n",
       "        9.99995232e-01],\n",
       "       [0.00000000e+00, 3.43519175e-17, 8.83006003e-30, 1.00000000e+00,\n",
       "        1.21529913e-11],\n",
       "       [8.28265971e-27, 1.34348069e-18, 0.00000000e+00, 1.20918768e-08,\n",
       "        1.00000000e+00],\n",
       "       [2.11830894e-07, 1.05267643e-08, 4.31419700e-09, 1.76702872e-06,\n",
       "        9.99997973e-01],\n",
       "       [3.60982571e-18, 3.90850532e-31, 1.59034908e-33, 3.85545549e-19,\n",
       "        1.00000000e+00],\n",
       "       [1.07834019e-25, 1.00000000e+00, 1.11974090e-13, 4.53235272e-09,\n",
       "        3.67119834e-15],\n",
       "       [2.60884287e-18, 5.58458583e-20, 1.09145168e-24, 2.73676070e-15,\n",
       "        1.00000000e+00],\n",
       "       [6.58408439e-09, 9.99898076e-01, 1.14967270e-05, 4.92212275e-05,\n",
       "        4.12132795e-05],\n",
       "       [8.06070748e-05, 4.17823685e-05, 9.99727428e-01, 1.41088516e-04,\n",
       "        9.16615500e-06],\n",
       "       [6.51290410e-10, 1.06205622e-08, 9.99999762e-01, 2.80202414e-07,\n",
       "        1.93462779e-09],\n",
       "       [8.59734506e-09, 9.99907732e-01, 7.90760078e-06, 4.08232445e-05,\n",
       "        4.36216615e-05],\n",
       "       [1.58568537e-06, 4.29917843e-19, 9.99998450e-01, 3.04878273e-27,\n",
       "        5.07459126e-17],\n",
       "       [6.76026684e-05, 2.37182234e-04, 6.40378585e-06, 4.58219176e-04,\n",
       "        9.99230504e-01],\n",
       "       [0.00000000e+00, 1.00000000e+00, 6.36734070e-21, 6.50250278e-18,\n",
       "        1.03391730e-32],\n",
       "       [2.95864848e-14, 1.78368464e-09, 1.21402875e-20, 1.20828849e-08,\n",
       "        1.00000000e+00],\n",
       "       [9.40673212e-13, 2.36738377e-16, 2.56436498e-16, 4.00297113e-12,\n",
       "        1.00000000e+00],\n",
       "       [1.93485301e-36, 4.24735554e-23, 0.00000000e+00, 1.39312192e-22,\n",
       "        1.00000000e+00],\n",
       "       [7.97172520e-38, 0.00000000e+00, 0.00000000e+00, 2.09094599e-32,\n",
       "        1.00000000e+00],\n",
       "       [9.99888062e-01, 2.29510164e-07, 1.64865196e-05, 9.01935055e-05,\n",
       "        5.02666717e-06],\n",
       "       [3.33448515e-05, 1.94172346e-04, 3.59629507e-06, 3.73440591e-04,\n",
       "        9.99395490e-01],\n",
       "       [9.71138948e-32, 8.83739359e-10, 1.81359134e-25, 1.00000000e+00,\n",
       "        1.87267912e-09],\n",
       "       [0.00000000e+00, 0.00000000e+00, 0.00000000e+00, 0.00000000e+00,\n",
       "        1.00000000e+00],\n",
       "       [9.99900103e-01, 3.32196748e-07, 2.29061407e-05, 7.21013857e-05,\n",
       "        4.48203946e-06],\n",
       "       [4.62332282e-05, 2.43702045e-04, 4.26828547e-06, 3.62043240e-04,\n",
       "        9.99343693e-01],\n",
       "       [5.46483666e-37, 2.84140017e-10, 2.07637964e-14, 1.00000000e+00,\n",
       "        1.81917155e-11],\n",
       "       [9.99769270e-01, 6.49797698e-07, 4.33843379e-05, 1.74049506e-04,\n",
       "        1.26695140e-05],\n",
       "       [0.00000000e+00, 8.20866797e-22, 5.68015991e-25, 1.00000000e+00,\n",
       "        7.29108597e-15],\n",
       "       [4.37153647e-10, 7.84743470e-09, 9.99999046e-01, 8.45707461e-07,\n",
       "        6.22147809e-08],\n",
       "       [9.99956727e-01, 5.64235378e-08, 7.01621866e-06, 3.47831010e-05,\n",
       "        1.37287282e-06],\n",
       "       [3.31241831e-21, 0.00000000e+00, 1.00000000e+00, 1.62336575e-29,\n",
       "        2.05302129e-27],\n",
       "       [4.38943957e-08, 9.99694347e-01, 5.00032802e-05, 1.10034969e-04,\n",
       "        1.45689264e-04],\n",
       "       [5.99393461e-05, 2.43812334e-04, 5.47752870e-06, 4.53431421e-04,\n",
       "        9.99237418e-01],\n",
       "       [5.44106844e-19, 2.34454367e-19, 1.90694490e-26, 5.85381548e-15,\n",
       "        1.00000000e+00],\n",
       "       [9.99938130e-01, 1.12817808e-07, 1.32181458e-05, 4.63098113e-05,\n",
       "        2.31048080e-06],\n",
       "       [4.26335811e-09, 7.50665331e-14, 1.03527504e-13, 3.01335268e-09,\n",
       "        1.00000000e+00],\n",
       "       [1.53279558e-08, 1.21175106e-22, 6.08198574e-17, 3.49007423e-09,\n",
       "        1.00000000e+00],\n",
       "       [9.99972820e-01, 7.53927267e-08, 1.02786016e-05, 1.61639546e-05,\n",
       "        6.93112895e-07],\n",
       "       [9.99881387e-01, 2.13712866e-07, 1.91572835e-05, 9.35091812e-05,\n",
       "        5.71799092e-06],\n",
       "       [4.01747116e-08, 9.99936223e-01, 1.11441359e-05, 1.97009558e-05,\n",
       "        3.29526993e-05],\n",
       "       [4.01645138e-06, 3.77192155e-05, 1.35485820e-07, 6.77721910e-05,\n",
       "        9.99890327e-01],\n",
       "       [5.07007826e-05, 2.40516572e-04, 4.50200196e-06, 4.02874721e-04,\n",
       "        9.99301314e-01],\n",
       "       [9.99913335e-01, 2.52558578e-07, 1.96797737e-05, 6.16901089e-05,\n",
       "        4.99852194e-06],\n",
       "       [3.95325388e-14, 2.19588681e-09, 1.50066444e-20, 1.55169815e-08,\n",
       "        1.00000000e+00],\n",
       "       [5.82246179e-14, 5.94695937e-09, 3.35961926e-20, 4.81460987e-08,\n",
       "        1.00000000e+00],\n",
       "       [2.63100053e-04, 3.27225243e-05, 3.81798774e-04, 9.99281228e-01,\n",
       "        4.11810615e-05],\n",
       "       [0.00000000e+00, 2.34594601e-21, 0.00000000e+00, 1.00000000e+00,\n",
       "        5.74796703e-11],\n",
       "       [5.63393989e-31, 8.38966275e-35, 0.00000000e+00, 7.60204978e-26,\n",
       "        1.00000000e+00],\n",
       "       [7.15445703e-10, 1.53885864e-08, 9.99999523e-01, 4.56582114e-07,\n",
       "        2.99415848e-09],\n",
       "       [2.74035838e-17, 4.20639257e-09, 9.67542306e-19, 2.17310578e-01,\n",
       "        7.82689393e-01],\n",
       "       [1.09176839e-12, 1.77182702e-09, 1.00000000e+00, 9.76700390e-17,\n",
       "        6.36791164e-17],\n",
       "       [6.54756511e-15, 4.70876534e-18, 1.75293611e-20, 4.18377525e-14,\n",
       "        1.00000000e+00],\n",
       "       [2.89617386e-10, 1.72570225e-08, 9.99999166e-01, 6.77455091e-07,\n",
       "        7.52153113e-08],\n",
       "       [1.71856000e-34, 8.57246894e-15, 1.53375784e-27, 1.00000000e+00,\n",
       "        9.03838160e-09],\n",
       "       [0.00000000e+00, 0.00000000e+00, 0.00000000e+00, 1.00000000e+00,\n",
       "        0.00000000e+00],\n",
       "       [8.22686090e-27, 1.25414529e-18, 0.00000000e+00, 9.95736560e-09,\n",
       "        1.00000000e+00],\n",
       "       [6.93915547e-20, 1.65356828e-09, 1.77920572e-23, 1.24277349e-05,\n",
       "        9.99987602e-01],\n",
       "       [5.71406190e-07, 2.20822403e-05, 1.30014550e-08, 2.83489644e-05,\n",
       "        9.99948978e-01],\n",
       "       [5.16225864e-12, 5.07737065e-16, 3.21135564e-18, 3.35360351e-11,\n",
       "        1.00000000e+00],\n",
       "       [0.00000000e+00, 1.99779285e-31, 0.00000000e+00, 1.00000000e+00,\n",
       "        6.24075289e-37],\n",
       "       [0.00000000e+00, 1.00000000e+00, 1.18692469e-19, 2.10188007e-15,\n",
       "        1.04384836e-25],\n",
       "       [1.06075584e-06, 2.94132115e-05, 2.30814639e-08, 3.80435267e-05,\n",
       "        9.99931455e-01],\n",
       "       [1.11011460e-12, 1.54248470e-09, 2.40276799e-15, 7.72153541e-09,\n",
       "        1.00000000e+00],\n",
       "       [9.99923825e-01, 1.65295390e-07, 1.33408239e-05, 5.93825607e-05,\n",
       "        3.22261621e-06],\n",
       "       [9.99972820e-01, 7.53927267e-08, 1.02786016e-05, 1.61639546e-05,\n",
       "        6.93112895e-07],\n",
       "       [2.38439270e-06, 1.17665104e-06, 9.08867150e-08, 2.53822236e-05,\n",
       "        9.99970913e-01],\n",
       "       [4.10669280e-04, 3.82899598e-05, 9.97591615e-01, 1.33008033e-03,\n",
       "        6.29431510e-04],\n",
       "       [4.13562811e-05, 1.80499046e-04, 3.47732225e-06, 3.30375246e-04,\n",
       "        9.99444306e-01],\n",
       "       [0.00000000e+00, 2.48781754e-26, 0.00000000e+00, 8.13882978e-13,\n",
       "        1.00000000e+00],\n",
       "       [1.85596191e-10, 3.37730482e-10, 3.11491767e-17, 2.37241071e-08,\n",
       "        1.00000000e+00],\n",
       "       [9.99854565e-01, 3.89836146e-07, 2.65054314e-05, 1.10601097e-04,\n",
       "        8.03635157e-06],\n",
       "       [2.60887983e-20, 4.31460240e-16, 3.09854780e-27, 6.90327515e-14,\n",
       "        1.00000000e+00],\n",
       "       [9.99940753e-01, 1.13263546e-07, 1.06599728e-05, 4.59603689e-05,\n",
       "        2.48984088e-06],\n",
       "       [1.34513711e-09, 1.92869241e-08, 9.99999285e-01, 6.72083218e-07,\n",
       "        5.28014832e-09],\n",
       "       [3.69885157e-07, 5.98173600e-08, 1.90348255e-05, 9.99980450e-01,\n",
       "        1.39014746e-08],\n",
       "       [3.75606869e-05, 3.69494228e-05, 9.99817550e-01, 1.04193146e-04,\n",
       "        3.76692196e-06],\n",
       "       [4.17523238e-10, 1.04601252e-08, 9.99998808e-01, 1.01523392e-06,\n",
       "        7.19849282e-08],\n",
       "       [6.49428728e-07, 1.30478056e-05, 1.96099634e-08, 2.02197134e-05,\n",
       "        9.99966145e-01],\n",
       "       [9.99854565e-01, 3.89836146e-07, 2.65054314e-05, 1.10601097e-04,\n",
       "        8.03635157e-06],\n",
       "       [9.99709308e-01, 8.92613400e-07, 5.02386283e-05, 2.22690433e-04,\n",
       "        1.68585448e-05],\n",
       "       [8.76905062e-07, 1.08797522e-05, 2.27823538e-08, 1.79345298e-05,\n",
       "        9.99970317e-01],\n",
       "       [9.99906182e-01, 2.57839048e-07, 2.01803578e-05, 6.95600684e-05,\n",
       "        3.86010788e-06],\n",
       "       [1.80086257e-08, 3.72458011e-08, 3.71931733e-13, 2.20201059e-06,\n",
       "        9.99997735e-01],\n",
       "       [6.10327770e-05, 2.65778304e-04, 6.07113680e-06, 5.63032634e-04,\n",
       "        9.99104083e-01],\n",
       "       [1.25885411e-30, 0.00000000e+00, 0.00000000e+00, 8.35675372e-30,\n",
       "        1.00000000e+00],\n",
       "       [0.00000000e+00, 0.00000000e+00, 0.00000000e+00, 0.00000000e+00,\n",
       "        1.00000000e+00],\n",
       "       [5.07261916e-07, 2.33724131e-05, 3.60984167e-08, 2.61705663e-05,\n",
       "        9.99949932e-01],\n",
       "       [3.59313035e-12, 5.78905528e-17, 1.24008607e-20, 5.95658809e-12,\n",
       "        1.00000000e+00],\n",
       "       [5.44936457e-11, 9.99976516e-01, 4.27945878e-07, 1.10579103e-05,\n",
       "        1.20253371e-05],\n",
       "       [6.97997748e-05, 2.38448221e-04, 6.66681944e-06, 5.64189453e-04,\n",
       "        9.99120891e-01],\n",
       "       [4.77887208e-28, 6.98977351e-01, 2.06868265e-07, 2.98651248e-01,\n",
       "        2.37120013e-03],\n",
       "       [2.87311746e-14, 2.79766477e-09, 1.18989350e-20, 1.69807439e-08,\n",
       "        1.00000000e+00]], dtype=float32)"
      ]
     },
     "execution_count": 24,
     "metadata": {},
     "output_type": "execute_result"
    }
   ],
   "source": [
    "model.predict(x_test)"
   ]
  },
  {
   "cell_type": "code",
   "execution_count": 25,
   "id": "49243661",
   "metadata": {
    "scrolled": true
   },
   "outputs": [
    {
     "name": "stdout",
     "output_type": "stream",
     "text": [
      "5/5 [==============================] - 0s 30ms/step - loss: 0.0329 - sparse_categorical_accuracy: 0.9934\n",
      "[0.03291035816073418, 0.9934210777282715]\n"
     ]
    }
   ],
   "source": [
    "print(model.evaluate(x_test, y_test))"
   ]
  },
  {
   "cell_type": "code",
   "execution_count": null,
   "id": "cc65a633",
   "metadata": {},
   "outputs": [],
   "source": []
  },
  {
   "cell_type": "code",
   "execution_count": null,
   "id": "716dea88",
   "metadata": {},
   "outputs": [],
   "source": []
  },
  {
   "cell_type": "code",
   "execution_count": 29,
   "id": "f4784400",
   "metadata": {},
   "outputs": [],
   "source": []
  }
 ],
 "metadata": {
  "kernelspec": {
   "display_name": "Python 3 (ipykernel)",
   "language": "python",
   "name": "python3"
  },
  "language_info": {
   "codemirror_mode": {
    "name": "ipython",
    "version": 3
   },
   "file_extension": ".py",
   "mimetype": "text/x-python",
   "name": "python",
   "nbconvert_exporter": "python",
   "pygments_lexer": "ipython3",
   "version": "3.11.3"
  }
 },
 "nbformat": 4,
 "nbformat_minor": 5
}
